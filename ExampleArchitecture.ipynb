{
 "cells": [
  {
   "cell_type": "code",
   "execution_count": 5,
   "metadata": {
    "collapsed": false
   },
   "outputs": [],
   "source": [
    "import tensorflow as tf\n",
    "from tensorflow.keras import layers"
   ]
  },
  {
   "cell_type": "code",
   "execution_count": 6,
   "metadata": {
    "collapsed": true
   },
   "outputs": [],
   "source": [
    "class ArchitectureExample(tf.keras.Model):\n",
    "\n",
    "    def __init__(self, **kwargs):\n",
    "        super(ArchitectureExample, self).__init__(**kwargs)\n",
    "                \n",
    "        self.conv_1 = layers.Conv2D(\n",
    "            filters=15,\n",
    "            kernel_size=[5,5],\n",
    "            strides=(4,4),\n",
    "            padding='valid'\n",
    "        )\n",
    "        \n",
    "        self.relu_1 = layers.ReLU()\n",
    "        \n",
    "        self.conv_2 = layers.Conv2D(\n",
    "            filters=5,\n",
    "            kernel_size=[3,3],\n",
    "            strides=(2,2),\n",
    "            padding='valid'\n",
    "        )\n",
    "        \n",
    "        self.relu_2 = layers.ReLU()\n",
    "        \n",
    "        self.max_pool = tf.keras.layers.MaxPool2D(\n",
    "            pool_size=(3, 3),\n",
    "            strides=(1, 1),\n",
    "            padding='same'\n",
    "        )\n",
    "        \n",
    "        self.flat = layers.Flatten()\n",
    "        self.dense_1 = layers.Dense(units=100)\n",
    "        self.relu_3 = layers.ReLU()\n",
    "        \n",
    "        self.dense_2 = layers.Dense(units=1)\n",
    "        self.sigmoid = layers.Activation(activation='sigmoid')\n",
    "\n",
    "    def call(self, inputs, training = None):\n",
    "\n",
    "        net = self.conv_1(inputs)\n",
    "        net = self.relu_1(net)\n",
    "        \n",
    "        net = self.conv_2(net)\n",
    "        net = self.relu_2(net)\n",
    "        \n",
    "        net = self.max_pool(net)\n",
    "        \n",
    "        net = self.flat(net)\n",
    "        \n",
    "        net = self.dense_1(net)\n",
    "        net = self.relu_3(net)\n",
    "        \n",
    "        net = self.dense_2(net)\n",
    "        net = self.sigmoid(net)\n",
    "\n",
    "        return net"
   ]
  },
  {
   "cell_type": "code",
   "execution_count": 7,
   "metadata": {
    "collapsed": true
   },
   "outputs": [],
   "source": [
    "inputs = tf.keras.layers.Input(shape=(100, 100, 3))\n",
    "arch_example = ArchitectureExample()\n",
    "outputs = arch_example(inputs, training = False)"
   ]
  },
  {
   "cell_type": "code",
   "execution_count": 8,
   "metadata": {
    "collapsed": false
   },
   "outputs": [
    {
     "name": "stdout",
     "output_type": "stream",
     "text": [
      "_________________________________________________________________\n",
      "Layer (type)                 Output Shape              Param #   \n",
      "=================================================================\n",
      "conv2d_2 (Conv2D)            (None, 24, 24, 15)        1140      \n",
      "_________________________________________________________________\n",
      "re_lu_3 (ReLU)               (None, 24, 24, 15)        0         \n",
      "_________________________________________________________________\n",
      "conv2d_3 (Conv2D)            (None, 11, 11, 5)         680       \n",
      "_________________________________________________________________\n",
      "re_lu_4 (ReLU)               (None, 11, 11, 5)         0         \n",
      "_________________________________________________________________\n",
      "max_pooling2d_1 (MaxPooling2 (None, 11, 11, 5)         0         \n",
      "_________________________________________________________________\n",
      "flatten_1 (Flatten)          (None, 605)               0         \n",
      "_________________________________________________________________\n",
      "dense_2 (Dense)              (None, 100)               60600     \n",
      "_________________________________________________________________\n",
      "re_lu_5 (ReLU)               (None, 100)               0         \n",
      "_________________________________________________________________\n",
      "dense_3 (Dense)              (None, 1)                 101       \n",
      "_________________________________________________________________\n",
      "activation_1 (Activation)    (None, 1)                 0         \n",
      "=================================================================\n",
      "Total params: 62,521\n",
      "Trainable params: 62,521\n",
      "Non-trainable params: 0\n",
      "_________________________________________________________________\n"
     ]
    }
   ],
   "source": [
    "arch_example.summary()"
   ]
  }
 ],
 "metadata": {
  "kernelspec": {
   "display_name": "Python 3",
   "language": "python",
   "name": "python3"
  },
  "language_info": {
   "codemirror_mode": {
    "name": "ipython",
    "version": 3
   },
   "file_extension": ".py",
   "mimetype": "text/x-python",
   "name": "python",
   "nbconvert_exporter": "python",
   "pygments_lexer": "ipython3",
   "version": "3.6.5"
  }
 },
 "nbformat": 4,
 "nbformat_minor": 2
}
