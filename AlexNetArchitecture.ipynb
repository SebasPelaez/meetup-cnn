{
 "cells": [
  {
   "cell_type": "code",
   "execution_count": 11,
   "metadata": {
    "collapsed": false
   },
   "outputs": [],
   "source": [
    "import tensorflow as tf\n",
    "from tensorflow.keras import layers"
   ]
  },
  {
   "cell_type": "code",
   "execution_count": 216,
   "metadata": {
    "collapsed": false
   },
   "outputs": [],
   "source": [
    "class ConvolutionalBlockWithPool(tf.keras.Model):\n",
    "\n",
    "    def __init__(self, filters, kernel_size, stride, padding='valid', **kwargs):\n",
    "        super(ConvolutionalBlockWithPool, self).__init__(**kwargs)\n",
    "        \n",
    "        self.filters = filters\n",
    "        self.kernel_size = kernel_size\n",
    "        self.stride = stride\n",
    "        self.padding = padding\n",
    "        \n",
    "        self.conv = layers.Conv2D(\n",
    "            filters=self.filters,\n",
    "            kernel_size=self.kernel_size,\n",
    "            strides=self.stride,\n",
    "            padding=self.padding\n",
    "        )\n",
    "\n",
    "        self.relu = layers.ReLU()\n",
    "        \n",
    "        self.max_pool = tf.keras.layers.MaxPool2D(\n",
    "            pool_size=(3, 3),\n",
    "            strides=(2, 2),\n",
    "            padding='valid'\n",
    "        )\n",
    "\n",
    "    def call(self, inputs, training = None):\n",
    "\n",
    "        net = self.conv(inputs)\n",
    "        net = self.relu(net)\n",
    "        \n",
    "        net = self.max_pool(net)\n",
    "\n",
    "        return net"
   ]
  },
  {
   "cell_type": "code",
   "execution_count": 227,
   "metadata": {
    "collapsed": false
   },
   "outputs": [],
   "source": [
    "class ConvolutionalBlock(tf.keras.Model):\n",
    "\n",
    "    def __init__(self, filters, kernel_size, stride, **kwargs):\n",
    "        super(ConvolutionalBlock, self).__init__(**kwargs)\n",
    "        \n",
    "        self.filters = filters\n",
    "        self.kernel_size = kernel_size\n",
    "        self.stride = stride\n",
    "        \n",
    "        self.conv = layers.Conv2D(\n",
    "            filters=self.filters,\n",
    "            kernel_size=kernel_size,\n",
    "            strides=stride,\n",
    "            padding='same'\n",
    "        )\n",
    "\n",
    "        self.relu = layers.ReLU()\n",
    "\n",
    "    def call(self, inputs, training = None):\n",
    "\n",
    "        net = self.conv(inputs)\n",
    "        net = self.relu(net)\n",
    "\n",
    "        return net"
   ]
  },
  {
   "cell_type": "code",
   "execution_count": 242,
   "metadata": {
    "collapsed": true
   },
   "outputs": [],
   "source": [
    "class DenseBlock(tf.keras.Model):\n",
    "\n",
    "    def __init__(self, num_units, **kwargs):\n",
    "        super(DenseBlock, self).__init__(**kwargs)\n",
    "        \n",
    "        self.num_units = num_units\n",
    "        \n",
    "        self.dropout = layers.Dropout(rate=0.2)\n",
    "        self.dense = layers.Dense(units=self.num_units)\n",
    "        self.relu = layers.ReLU()\n",
    "\n",
    "    def call(self, inputs, training = None):\n",
    "\n",
    "        net = self.dropout(inputs)\n",
    "        net = self.dense(net)\n",
    "        net = self.relu(net)\n",
    "\n",
    "        return net"
   ]
  },
  {
   "cell_type": "code",
   "execution_count": 243,
   "metadata": {
    "collapsed": true
   },
   "outputs": [],
   "source": [
    "class AlexNetArchitecture(tf.keras.Model):\n",
    "\n",
    "    def __init__(self,**kwargs):\n",
    "\n",
    "        super(AlexNetArchitecture, self).__init__(**kwargs)\n",
    "\n",
    "        self.conv_1 = ConvolutionalBlockWithPool(filters=96, kernel_size=[11,11], stride=(4,4))\n",
    "        self.conv_2 = ConvolutionalBlockWithPool(filters=256, kernel_size=[5,5], stride=(1,1),padding='same')\n",
    "        self.conv_3 = ConvolutionalBlock(filters=384, kernel_size=[3,3], stride=(1,1))\n",
    "        self.conv_4 = ConvolutionalBlock(filters=384, kernel_size=[3,3], stride=(1,1))\n",
    "        self.conv_5 = ConvolutionalBlockWithPool(filters=256, kernel_size=[3,3], stride=(1,1),padding='same')\n",
    "        \n",
    "        self.flatten = layers.Flatten()\n",
    "        self.dense_1 = DenseBlock(num_units=4096)\n",
    "        self.dense_2 = DenseBlock(num_units=4096)\n",
    "        self.dense_3 = layers.Dense(units=1000)\n",
    "        \n",
    "    def call(self, inputs, training=None):\n",
    "        \n",
    "        net = self.conv_1(inputs)\n",
    "        net = self.conv_2(net)\n",
    "        net = self.conv_3(net)\n",
    "        net = self.conv_4(net)\n",
    "        net = self.conv_5(net)\n",
    "        \n",
    "        net = self.flatten(net)\n",
    "        \n",
    "        net = self.dense_1(net)\n",
    "        net = self.dense_2(net)\n",
    "        net = self.dense_3(net)\n",
    "        \n",
    "        return net"
   ]
  },
  {
   "cell_type": "code",
   "execution_count": 244,
   "metadata": {
    "collapsed": false
   },
   "outputs": [],
   "source": [
    "inputs = tf.keras.layers.Input(shape=(227, 227, 3))\n",
    "alexnet = AlexNetArchitecture()\n",
    "outputs = alexnet(inputs, training = False)"
   ]
  },
  {
   "cell_type": "code",
   "execution_count": 245,
   "metadata": {
    "collapsed": false
   },
   "outputs": [
    {
     "name": "stdout",
     "output_type": "stream",
     "text": [
      "_________________________________________________________________\n",
      "Layer (type)                 Output Shape              Param #   \n",
      "=================================================================\n",
      "convolutional_block_with_poo (None, 27, 27, 96)        34944     \n",
      "_________________________________________________________________\n",
      "convolutional_block_with_poo (None, 13, 13, 256)       614656    \n",
      "_________________________________________________________________\n",
      "convolutional_block_164 (Con (None, 13, 13, 384)       885120    \n",
      "_________________________________________________________________\n",
      "convolutional_block_165 (Con (None, 13, 13, 384)       1327488   \n",
      "_________________________________________________________________\n",
      "convolutional_block_with_poo (None, 6, 6, 256)         884992    \n",
      "_________________________________________________________________\n",
      "flatten_16 (Flatten)         (None, 9216)              0         \n",
      "_________________________________________________________________\n",
      "dense_block (DenseBlock)     (None, 4096)              37752832  \n",
      "_________________________________________________________________\n",
      "dense_block_1 (DenseBlock)   (None, 4096)              16781312  \n",
      "_________________________________________________________________\n",
      "dense_96 (Dense)             (None, 1000)              4097000   \n",
      "=================================================================\n",
      "Total params: 62,378,344\n",
      "Trainable params: 62,378,344\n",
      "Non-trainable params: 0\n",
      "_________________________________________________________________\n"
     ]
    }
   ],
   "source": [
    "alexnet.summary()"
   ]
  }
 ],
 "metadata": {
  "kernelspec": {
   "display_name": "Python 3",
   "language": "python",
   "name": "python3"
  },
  "language_info": {
   "codemirror_mode": {
    "name": "ipython",
    "version": 3
   },
   "file_extension": ".py",
   "mimetype": "text/x-python",
   "name": "python",
   "nbconvert_exporter": "python",
   "pygments_lexer": "ipython3",
   "version": "3.6.5"
  }
 },
 "nbformat": 4,
 "nbformat_minor": 2
}
