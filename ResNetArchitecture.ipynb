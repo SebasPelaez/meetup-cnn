{
 "cells": [
  {
   "cell_type": "code",
   "execution_count": 1,
   "metadata": {
    "collapsed": false
   },
   "outputs": [
    {
     "name": "stderr",
     "output_type": "stream",
     "text": [
      "/home/sebas/Documentos/bootcamp/assignment1/.env/lib/python3.6/site-packages/h5py/__init__.py:34: FutureWarning: Conversion of the second argument of issubdtype from `float` to `np.floating` is deprecated. In future, it will be treated as `np.float64 == np.dtype(float).type`.\n",
      "  from ._conv import register_converters as _register_converters\n"
     ]
    }
   ],
   "source": [
    "import numpy as np\n",
    "import tensorflow as tf\n",
    "tf.enable_eager_execution()"
   ]
  },
  {
   "cell_type": "code",
   "execution_count": 23,
   "metadata": {
    "collapsed": true
   },
   "outputs": [],
   "source": [
    "def residual_block(inputs, input_filters, filters,\n",
    "        downsample=False, training=True, reg=0.0001):\n",
    "    \n",
    "    net = tf.layers.conv2d(inputs=inputs, filters=filters[0],\n",
    "        kernel_size=[1, 1], padding=\"same\", activation=None,\n",
    "        kernel_regularizer=tf.contrib.layers.l2_regularizer(reg)\n",
    "    )\n",
    "    net = tf.nn.elu(net)\n",
    "\n",
    "    if downsample:\n",
    "        s = 2\n",
    "    else:\n",
    "        s = 1\n",
    "        \n",
    "    net = tf.layers.conv2d(inputs=net, filters=filters[0],\n",
    "        kernel_size=[3, 3], strides=(s, s), padding='same', activation=None,\n",
    "        kernel_regularizer=tf.contrib.layers.l2_regularizer(reg)\n",
    "    )\n",
    "    net = tf.nn.elu(net)\n",
    "    \n",
    "    net = tf.layers.conv2d(inputs=net, filters=filters[1],\n",
    "        kernel_size=[1, 1], padding=\"same\", activation=None,\n",
    "        kernel_regularizer=tf.contrib.layers.l2_regularizer(reg)\n",
    "    )\n",
    "    net = tf.nn.elu(net)\n",
    "   \n",
    "    if downsample:\n",
    "        skipped_inputs = tf.layers.conv2d(inputs=inputs,\n",
    "            filters=filters[1], kernel_size=[3, 3], strides=(s, s),\n",
    "            padding='same', activation=None\n",
    "        )\n",
    "\n",
    "    elif filters[1] != input_filters:\n",
    "        skipped_inputs = tf.layers.conv2d(inputs=inputs,\n",
    "            filters=filters[1], kernel_size=[1, 1], strides=(1, 1),\n",
    "            padding='same', activation=None,\n",
    "            kernel_regularizer=tf.contrib.layers.l2_regularizer(reg)\n",
    "        )\n",
    "\n",
    "    else:\n",
    "        skipped_inputs = inputs\n",
    "\n",
    "    net = net + skipped_inputs\n",
    "    \n",
    "    return tf.nn.elu(net)\n",
    "    "
   ]
  },
  {
   "cell_type": "code",
   "execution_count": 33,
   "metadata": {
    "collapsed": true
   },
   "outputs": [],
   "source": [
    "def residual_block_stage(inputs, num_blocks, input_filters, filters,\n",
    "        downsample=False, training=True, reg=0.0001):\n",
    "    \n",
    "    feature_map = inputs\n",
    "    previous_filters = input_filters\n",
    "    downsample_ = downsample\n",
    " \n",
    "    for i in range(num_blocks):\n",
    "\n",
    "        if (downsample and i == 0):\n",
    "            downsample_ = True\n",
    "\n",
    "        feature_map = residual_block(feature_map, previous_filters,\n",
    "            filters, downsample_, training, reg=reg\n",
    "        )\n",
    "        previous_filters = tf.shape(feature_map)[-1]\n",
    "\n",
    "        downsample_ = False\n",
    "\n",
    "    return feature_map"
   ]
  },
  {
   "cell_type": "code",
   "execution_count": 34,
   "metadata": {
    "collapsed": true
   },
   "outputs": [],
   "source": [
    "def _model(inputs, stages, num_classes, training, reg, dropout_rate):\n",
    "    \n",
    "    # First convolution\n",
    "    net = tf.layers.conv2d(inputs=inputs, filters= 64,\n",
    "        kernel_size=[5, 5], padding=\"same\", activation=None\n",
    "    )\n",
    "\n",
    "    net = tf.nn.elu(net)\n",
    "    \n",
    "    input_filters = 64\n",
    "    filters = (64, 256)\n",
    "    downsample = False\n",
    "    \n",
    "    # RestNet structure\n",
    "    for num_blocks in stages:\n",
    "        net = residual_block_stage(inputs=net, num_blocks=num_blocks,\n",
    "            input_filters=input_filters, filters=filters,\n",
    "            downsample=downsample, training=training\n",
    "        )\n",
    "        \n",
    "        downsample = True\n",
    "        input_filters = filters[1]\n",
    "        filters = (filters[0]*2, filters[1]*2)\n",
    "        \n",
    "        print(net.shape)\n",
    "        \n",
    "    \n",
    "    # Reduce mean\n",
    "    net = tf.reduce_mean(net, axis=[1,2])\n",
    "\n",
    "    # Extra dense layer to add dropout\n",
    "    if dropout_rate > 0:\n",
    "        net = tf.layers.dropout(net, rate=dropout_rate, training=training)\n",
    "    \n",
    "    # Logits Layer\n",
    "    logits = tf.layers.dense(inputs=net, units=num_classes,\n",
    "        #kernel_regularizer=tf.contrib.layers.l2_regularizer(reg)\n",
    "    )\n",
    "\n",
    "    return logits"
   ]
  },
  {
   "cell_type": "code",
   "execution_count": 35,
   "metadata": {
    "collapsed": true
   },
   "outputs": [],
   "source": [
    "inputs = tf.convert_to_tensor(np.random.randn(5,255,255,3))"
   ]
  },
  {
   "cell_type": "code",
   "execution_count": 36,
   "metadata": {
    "collapsed": false
   },
   "outputs": [
    {
     "name": "stdout",
     "output_type": "stream",
     "text": [
      "(5, 255, 255, 256)\n",
      "(5, 255, 255, 256)\n",
      "(5, 255, 255, 256)\n",
      "(5, 255, 255, 256)\n",
      "(5, 128, 128, 512)\n",
      "(5, 128, 128, 512)\n",
      "(5, 128, 128, 512)\n",
      "(5, 128, 128, 512)\n",
      "(5, 128, 128, 512)\n",
      "(5, 64, 64, 1024)\n",
      "(5, 64, 64, 1024)\n",
      "(5, 64, 64, 1024)\n",
      "(5, 64, 64, 1024)\n",
      "(5, 64, 64, 1024)\n",
      "(5, 64, 64, 1024)\n",
      "(5, 64, 64, 1024)\n",
      "(5, 32, 32, 2048)\n",
      "(5, 32, 32, 2048)\n",
      "(5, 32, 32, 2048)\n",
      "(5, 32, 32, 2048)\n"
     ]
    }
   ],
   "source": [
    "logits = _model(inputs,stages=[3,4,6,3], num_classes=100, training=None, reg=0.0001, dropout_rate=0.2)"
   ]
  },
  {
   "cell_type": "code",
   "execution_count": 37,
   "metadata": {
    "collapsed": false
   },
   "outputs": [
    {
     "data": {
      "text/plain": [
       "TensorShape([Dimension(5), Dimension(100)])"
      ]
     },
     "execution_count": 37,
     "metadata": {},
     "output_type": "execute_result"
    }
   ],
   "source": [
    "logits.shape"
   ]
  },
  {
   "cell_type": "code",
   "execution_count": null,
   "metadata": {
    "collapsed": true
   },
   "outputs": [],
   "source": []
  }
 ],
 "metadata": {
  "kernelspec": {
   "display_name": "Python 3",
   "language": "python",
   "name": "python3"
  },
  "language_info": {
   "codemirror_mode": {
    "name": "ipython",
    "version": 3
   },
   "file_extension": ".py",
   "mimetype": "text/x-python",
   "name": "python",
   "nbconvert_exporter": "python",
   "pygments_lexer": "ipython3",
   "version": "3.6.5"
  }
 },
 "nbformat": 4,
 "nbformat_minor": 2
}
